{
 "cells": [
  {
   "cell_type": "code",
   "execution_count": null,
   "id": "e451af69",
   "metadata": {},
   "outputs": [],
   "source": []
  },
  {
   "cell_type": "code",
   "execution_count": null,
   "id": "36842b00",
   "metadata": {},
   "outputs": [],
   "source": []
  },
  {
   "cell_type": "code",
   "execution_count": null,
   "id": "e82add31",
   "metadata": {},
   "outputs": [],
   "source": [
    "import torch\n",
    "\n",
    "\n",
    "\n",
    "class TrainingConfig:\n",
    "    def __init__(self):\n",
    "        self.batch_size = 8  # 一度に処理する画像数\n",
    "        self.imgsz = 640     # 入力画像のサイズ（幅・高さ）\n",
    "        self.epochs = 50     # トレーニング全体でのエポック数\n",
    "        self.patience = 10   # 学習が進まなくなった場合に早期終了するまでのエポック数\n",
    "        self.device = [0, 1] if torch.cuda.device_count() > 1 else 0  # 使用するGPU\n",
    "        self.optimizer = 'AdamW'  # 使用する最適化手法\n",
    "        self.lr0 = 5e-4  # 初期学習率（モデルの重みの更新幅）\n",
    "        self.lrf = 0.01  # 最終学習率（初期学習率に対する比率）\n",
    "        self.momentum = 0.9  # モメンタム（SGD系の最適化に使う）\n",
    "        self.weight_decay = 0.0001  # 重み減衰（L2正則化）\n",
    "        self.warmup_epochs = 2.0  # ウォームアップ期間（最初の数エポックで学習率を徐々に増やす）\n",
    "        self.warmup_momentum = 0.8  # ウォームアップ時のモメンタム\n",
    "        self.warmup_bias_lr = 0.05  # バイアスの初期学習率\n",
    "        self.box = 7.5  # バウンディングボックスの損失係数\n",
    "        self.cls = 0.7  # クラス分類の損失係数\n",
    "        self.dfl = 1.5  # Distribution Focal Loss の係数\n",
    "\n",
    "        # 以下はデータ拡張のパラメータ（学習用の画像を変形して汎化性能を高める）\n",
    "        self.hsv_h = 0.015  # 色相の変更幅（Hue）\n",
    "        self.hsv_s = 0.6  # 彩度の変更幅（Saturation）\n",
    "        self.hsv_v = 0.4  # 明度の変更幅（Value）\n",
    "        self.degrees = 20.0  # 回転の角度（±で指定）\n",
    "        self.translate = 0.1  # 平行移動の範囲（画像サイズに対する割合）\n",
    "        self.scale = 0.3  # 拡大縮小の範囲（±で指定）\n",
    "        self.shear = 2.0  # シアー変換（斜め変形）の範囲\n",
    "        self.perspective = 0.0002  # パース変換（遠近感）を加える範囲\n",
    "        self.flipud = 0.3  # 上下反転の確率\n",
    "        self.fliplr = 0.5  # 左右反転の確率\n",
    "        self.mosaic = 0.7  # モザイク（複数画像合成）の確率\n",
    "        self.mixup = 0.1  # mixup（画像とラベルの線形合成）の確率\n",
    "        self.copy_paste = 0.1  # セグメントのコピーペースト合成の確率\n",
    "        self.dropout = 0.05  # ドロップアウト率（正則化のためのノード無効化）\n"
   ]
  },
  {
   "cell_type": "code",
   "execution_count": null,
   "id": "a04c6140",
   "metadata": {},
   "outputs": [],
   "source": []
  }
 ],
 "metadata": {
  "kernelspec": {
   "display_name": "Python 3",
   "language": "python",
   "name": "python3"
  },
  "language_info": {
   "name": "python",
   "version": "3.12.7"
  }
 },
 "nbformat": 4,
 "nbformat_minor": 5
}
